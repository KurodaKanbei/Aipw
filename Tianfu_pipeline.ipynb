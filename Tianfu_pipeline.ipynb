{
 "cells": [
  {
   "cell_type": "markdown",
   "id": "1e56c71f-655a-44b9-be89-f2eaa2682da6",
   "metadata": {},
   "source": [
    "## Load libraries\n"
   ]
  },
  {
   "cell_type": "code",
   "execution_count": 1,
   "id": "60a94525-6c27-424d-86f5-806fe267e0ed",
   "metadata": {},
   "outputs": [
    {
     "name": "stdout",
     "output_type": "stream",
     "text": [
      "(1181, 832) (1181, 1)\n"
     ]
    }
   ],
   "source": [
    "import pandas as pd\n",
    "import numpy as np\n",
    "import os\n",
    "import random\n",
    "import sklearn\n",
    "from sklearn.impute import SimpleImputer\n",
    "import seaborn as sb\n",
    "from scipy import stats\n",
    "from sklearn.ensemble import IsolationForest\n",
    "from matplotlib import pyplot as plt\n",
    "from sklearn.linear_model import LinearRegression, Ridge, Lasso\n",
    "from sklearn.ensemble import RandomForestRegressor\n",
    "from sklearn.tree import DecisionTreeRegressor\n",
    "from sklearn.preprocessing import PolynomialFeatures\n",
    "from sklearn.impute import KNNImputer\n",
    "from sklearn.impute import SimpleImputer\n",
    "from sklearn.datasets import dump_svmlight_file\n",
    "from xgboost import XGBRegressor\n",
    "from sklearn.feature_selection import SelectKBest, f_regression\n",
    "from sklearn.feature_selection import VarianceThreshold\n",
    "import pandas as pd\n",
    "from sklearn.metrics import r2_score\n",
    "from sklearn.model_selection import train_test_split\n",
    "X = pd.read_csv(os.path.join(\"data\", \"X_train.csv\"),\n",
    "                delimiter=',',\n",
    "                index_col = 'id')\n",
    "y = pd.read_csv(os.path.join(\"data\", \"y_train.csv\"),\n",
    "                delimiter=',',\n",
    "                index_col='id')\n",
    "from sklearn.feature_selection import SelectKBest, f_regression, mutual_info_regression, SelectFromModel\n",
    "from sklearn.ensemble import ExtraTreesRegressor\n",
    "from scipy.stats import pearsonr\n",
    "\n",
    "\n",
    "\n",
    "nan_idx = np.isnan(X)\n",
    "imputer = KNNImputer(n_neighbors=20)\n",
    "X_imp = imputer.fit_transform(X)\n",
    "\n",
    "model = sklearn.ensemble.IsolationForest(max_samples=0.5, contamination=0.025)\n",
    "# model = sklearn.neighbors.LocalOutlierFactor(contamination=0.025)\n",
    "outl_pred = model.fit_predict(X_imp)\n",
    "mask = outl_pred != -1\n",
    "\n",
    "\n",
    "X_cleaned = np.copy(X_imp)\n",
    "y_cleaned = np.copy(y.values)\n",
    "X_cleaned, y_cleaned = X_cleaned[mask, :], y_cleaned[mask]\n",
    "print(X_cleaned.shape, y_cleaned.shape)\n",
    "y_train = y_cleaned\n"
   ]
  },
  {
   "cell_type": "code",
   "execution_count": 2,
   "id": "3a48b914-ec2f-49a9-9316-d23dc8438375",
   "metadata": {},
   "outputs": [
    {
     "name": "stderr",
     "output_type": "stream",
     "text": [
      "/scratch_net/troubadour/tianfwang/conda_envs/pytorch3d/lib/python3.9/site-packages/scipy/stats/_stats_py.py:4068: PearsonRConstantInputWarning: An input array is constant; the correlation coefficient is not defined.\n",
      "  warnings.warn(PearsonRConstantInputWarning())\n",
      "/scratch_net/troubadour/tianfwang/conda_envs/pytorch3d/lib/python3.9/site-packages/scipy/stats/_stats_py.py:4068: PearsonRConstantInputWarning: An input array is constant; the correlation coefficient is not defined.\n",
      "  warnings.warn(PearsonRConstantInputWarning())\n",
      "/scratch_net/troubadour/tianfwang/conda_envs/pytorch3d/lib/python3.9/site-packages/scipy/stats/_stats_py.py:4068: PearsonRConstantInputWarning: An input array is constant; the correlation coefficient is not defined.\n",
      "  warnings.warn(PearsonRConstantInputWarning())\n",
      "/scratch_net/troubadour/tianfwang/conda_envs/pytorch3d/lib/python3.9/site-packages/scipy/stats/_stats_py.py:4068: PearsonRConstantInputWarning: An input array is constant; the correlation coefficient is not defined.\n",
      "  warnings.warn(PearsonRConstantInputWarning())\n"
     ]
    },
    {
     "data": {
      "text/plain": [
       "Index(['x2', 'x15', 'x21', 'x23', 'x26', 'x27', 'x29', 'x40', 'x69', 'x77',\n",
       "       ...\n",
       "       'x777', 'x778', 'x780', 'x788', 'x796', 'x801', 'x817', 'x819', 'x823',\n",
       "       'x824'],\n",
       "      dtype='object', length=192)"
      ]
     },
     "execution_count": 2,
     "metadata": {},
     "output_type": "execute_result"
    }
   ],
   "source": [
    "thresh_corr = 0.1\n",
    "\n",
    "df_train = pd.DataFrame(X_cleaned, columns=X.columns)\n",
    "features = df_train.iloc[:,1:].columns.tolist()\n",
    "labels = y_cleaned\n",
    "corr = {}\n",
    "for f in features:\n",
    "    x_f = df_train[[f]][f].values\n",
    "    key = f\n",
    "    corr[key] = pearsonr(x_f,y_cleaned)[0]\n",
    "\n",
    "data_corr = pd.DataFrame(corr, index=['lin']).T\n",
    "selected_features = data_corr.loc[(abs(data_corr['lin']) >= thresh_corr) ].index\n",
    "selected_features\n"
   ]
  },
  {
   "cell_type": "code",
   "execution_count": 3,
   "id": "58a2b52a-3cd5-4eb0-aaa2-56b535f9fd74",
   "metadata": {},
   "outputs": [],
   "source": [
    "X_train = X_cleaned\n",
    "\n",
    "X_train = sklearn.preprocessing.StandardScaler().fit(X_cleaned).transform(X_train)\n",
    "X_train  = pd.DataFrame(X_train, columns=X.columns)\n",
    "X_train = X_train[selected_features].values"
   ]
  },
  {
   "cell_type": "code",
   "execution_count": null,
   "id": "c222e44d-c269-48f1-8e0f-dac46d83e4ef",
   "metadata": {},
   "outputs": [
    {
     "name": "stderr",
     "output_type": "stream",
     "text": [
      "/scratch_net/troubadour/tianfwang/conda_envs/pytorch3d/lib/python3.9/site-packages/sklearn/base.py:443: UserWarning: X has feature names, but KNNImputer was fitted without feature names\n",
      "  warnings.warn(\n"
     ]
    }
   ],
   "source": [
    "X_test = pd.read_csv(os.path.join(\"data\", \"X_test.csv\"),\n",
    "                         delimiter=',',\n",
    "                         index_col='id')\n",
    "\n",
    "X_test_KNN = imputer.fit(X_cleaned).transform(X_test)\n",
    "X_test = pd.DataFrame(X_test_KNN, columns=X_test.columns, index=X_test.index)\n",
    "# X_test = X_test[selected_features]\n",
    "X_test_stdised = sklearn.preprocessing.StandardScaler().fit(X_cleaned).transform(X_test)\n"
   ]
  },
  {
   "cell_type": "code",
   "execution_count": null,
   "id": "fecad3a0-ff44-4701-831e-077f03f2727f",
   "metadata": {},
   "outputs": [],
   "source": [
    "X_test_stdised = pd.DataFrame(X_test_stdised, columns=X_test.columns, index=X_test.index)\n",
    "X_test_stdised = X_test_stdised[selected_features].values"
   ]
  },
  {
   "cell_type": "code",
   "execution_count": null,
   "id": "177b12bb-6244-492a-99ac-671788ed60e7",
   "metadata": {
    "scrolled": true,
    "tags": []
   },
   "outputs": [],
   "source": [
    "def r2_sc(preds, train_data):\n",
    "    labels = train_data.get_label()\n",
    "    return 'r2', r2_score(labels, preds), True\n",
    "\n",
    "best = 0\n",
    "trial_itr = 100\n",
    "for i in range(trial_itr):\n",
    "    print(f\"train itr {i}\")\n",
    "    X_train_split, X_val_split, y_train_split, y_val_split = train_test_split(X_train, y_train, test_size = 0.15) \n",
    "    \n",
    "    lgb_train = lgb.Dataset(X_train_split, y_train_split)\n",
    "    \n",
    "    \n",
    "    lgb_eval = lgb.Dataset(X_val_split, y_val_split, reference=lgb_train)\n",
    "\n",
    "\n",
    "    params = {\n",
    "        'task': 'train',\n",
    "        'boosting_type': 'gbdt',\n",
    "        'objective': 'regression',\n",
    "        'num_leaves': 32,\n",
    "        'learning_rate': 0.05,\n",
    "        'feature_fraction': 0.5,\n",
    "        'bagging_fraction': 0.8,\n",
    "        'bagging_freq': 5,\n",
    "        'verbose': 0\n",
    "    }\n",
    "\n",
    "\n",
    "\n",
    "    model = lgb.train(params,\n",
    "                    lgb_train,\n",
    "                    num_boost_round=1000,\n",
    "                    feval=r2_sc,\n",
    "                    valid_sets={lgb_train, lgb_eval},\n",
    "                     early_stopping_rounds=100)\n",
    "    y_val_predict = model.predict(X_val_split, num_iteration=model.best_iteration)\n",
    "        \n",
    "    \n",
    "    \n",
    "    res = r2_score(y_val_split, y_val_predict)\n",
    "    \n",
    "    print(res)\n",
    "    if res > best:\n",
    "        print(f\"New Best result {res}\")\n",
    "        best = res\n",
    "        y_pred = model.predict(X_test_stdised, num_iteration=model.best_iteration)\n",
    "        f = open(f\"out{best}.csv\", \"w\")\n",
    "        f.write(\"id,y\\n\")\n",
    "        for i,x in enumerate(y_pred):\n",
    "            f.write(\"{},{}\\n\".format(i,x))\n",
    "        f.close()"
   ]
  },
  {
   "cell_type": "code",
   "execution_count": 9,
   "id": "1a3fed8f-1203-407f-bcac-719026ced2af",
   "metadata": {},
   "outputs": [
    {
     "name": "stdout",
     "output_type": "stream",
     "text": [
      "['./test/corr_linear.csv', './test/lgb_multirun.csv', './test/lgb.csv']\n"
     ]
    }
   ],
   "source": [
    "import glob\n",
    "print(glob.glob(\"./test/*\"))"
   ]
  },
  {
   "cell_type": "code",
   "execution_count": 23,
   "id": "634935b9-0973-4836-b57a-308eb5a81f7e",
   "metadata": {},
   "outputs": [
    {
     "name": "stdout",
     "output_type": "stream",
     "text": [
      "['./test/corr_linear.csv', './test/lgb_multirun.csv', './test/lgb.csv']\n"
     ]
    }
   ],
   "source": [
    "inputs = glob.glob(\"./ensemble/*\")\n",
    "print(inputs)\n",
    "res = [0.0]*776\n",
    "\n",
    "for f in inputs:\n",
    "    f = open(f).readlines()[1:]\n",
    "    for l in f:\n",
    "        sp = l.split(',')\n",
    "        idx, s = int(sp[0]), float(sp[1])\n",
    "        res[idx] += s\n",
    "out = open(\"./ensemble_debug.csv\", \"w\")\n",
    "out.write(\"id,y\\n\")\n",
    "for i in range(776):\n",
    "    out.write(\"{},{}\\n\".format(i, (res[i]/len(inputs))))\n",
    "out.close()"
   ]
  }
 ],
 "metadata": {
  "kernelspec": {
   "display_name": "Python 3 (ipykernel)",
   "language": "python",
   "name": "python3"
  },
  "language_info": {
   "codemirror_mode": {
    "name": "ipython",
    "version": 3
   },
   "file_extension": ".py",
   "mimetype": "text/x-python",
   "name": "python",
   "nbconvert_exporter": "python",
   "pygments_lexer": "ipython3",
   "version": "3.9.12"
  }
 },
 "nbformat": 4,
 "nbformat_minor": 5
}
